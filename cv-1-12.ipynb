{
 "cells": [
  {
   "cell_type": "markdown",
   "id": "d8a08368",
   "metadata": {},
   "source": [
    "Подсчёт пикселей по цвету.\n",
    "Посчитать количество пикселей заданного цвета (например, красного).\n",
    "1. Загрузите изображение.\n",
    "2. Преобразуйте в HSV.\n",
    "3. Определите диапазон красного цвета (например, [0,100,100] – [10,255,255] и [170,100,100] – [180,255,255]).\n",
    "4. Создайте маску с помощью cv2.inRange().\n",
    "5. Посчитайте ненулевые пиксели в маске (np.count_nonzero()).\n",
    "Использовать библиотеки: opencv-python, numpy\n",
    "https://stackoverflow.com/questions/30331944/finding-red-color-in-image-using-python-opencv (EN)\n",
    "Baseline: подсчёт выполнен. Метрика: точность > 90% на синтетике."
   ]
  },
  {
   "cell_type": "code",
   "execution_count": 20,
   "id": "85dee875",
   "metadata": {},
   "outputs": [],
   "source": [
    "import cv2\n",
    "import numpy as np"
   ]
  },
  {
   "cell_type": "code",
   "execution_count": 41,
   "id": "daf6efbb",
   "metadata": {},
   "outputs": [
    {
     "name": "stdout",
     "output_type": "stream",
     "text": [
      "Количество красных пикселей: 23400\n"
     ]
    }
   ],
   "source": [
    "image_path = 'img.png'\n",
    "image_bgr = cv2.imread(image_path)\n",
    "image_hsv = cv2.cvtColor(image_bgr, cv2.COLOR_BGR2HSV)\n",
    "\n",
    "lower_red1 = np.array([0, 100, 100])\n",
    "upper_red1 = np.array([10, 255, 255])\n",
    "lower_red2 = np.array([170, 100, 100])\n",
    "upper_red2 = np.array([180, 255, 255])\n",
    "\n",
    "mask1 = cv2.inRange(image_hsv, lower_red1, upper_red1)\n",
    "mask2 = cv2.inRange(image_hsv, lower_red2, upper_red2)\n",
    "mask = cv2.bitwise_or(mask1, mask2)\n",
    "\n",
    "red_pixel_count = int(np.count_nonzero(mask))\n",
    "print(\"Количество красных пикселей:\", red_pixel_count)"
   ]
  }
 ],
 "metadata": {
  "kernelspec": {
   "display_name": "Python 3",
   "language": "python",
   "name": "python3"
  },
  "language_info": {
   "codemirror_mode": {
    "name": "ipython",
    "version": 3
   },
   "file_extension": ".py",
   "mimetype": "text/x-python",
   "name": "python",
   "nbconvert_exporter": "python",
   "pygments_lexer": "ipython3",
   "version": "3.13.7"
  }
 },
 "nbformat": 4,
 "nbformat_minor": 5
}
